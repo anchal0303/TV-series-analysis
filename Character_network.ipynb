{
 "cells": [
  {
   "cell_type": "markdown",
   "id": "50c9b0a0-85db-4421-8e5a-262dd16cdd63",
   "metadata": {},
   "source": [
    "Named Entity Recognization"
   ]
  },
  {
   "cell_type": "code",
   "execution_count": null,
   "id": "d271e661-327a-43d0-8dd2-ea3bcf5f598c",
   "metadata": {},
   "outputs": [],
   "source": [
    "import spacy\n",
    "from nltk import sent_tokenize"
   ]
  },
  {
   "cell_type": "code",
   "execution_count": null,
   "id": "8d267ed3",
   "metadata": {},
   "outputs": [],
   "source": [
    "!python -m spacy download en_core_web_trf"
   ]
  },
  {
   "cell_type": "markdown",
   "id": "199af5ea",
   "metadata": {},
   "source": [
    "Load Dataset"
   ]
  },
  {
   "cell_type": "code",
   "execution_count": null,
   "id": "521c70db",
   "metadata": {},
   "outputs": [],
   "source": [
    "import os \n",
    "import sys\n",
    "import pathlib\n",
    "folder_path = pathlib.Path().parent.resolve()\n",
    "sys.path.append(os.path.join(folder_path, '../'))\n",
    "from utils import load_subtitles_dataset"
   ]
  },
  {
   "cell_type": "code",
   "execution_count": null,
   "id": "b48009b7",
   "metadata": {},
   "outputs": [],
   "source": [
    "dataset_path = \"../data/Subtitles/\"\n",
    "df = load_subtitles_dataset(dataset_path)"
   ]
  },
  {
   "cell_type": "code",
   "execution_count": null,
   "id": "3bed8775",
   "metadata": {},
   "outputs": [],
   "source": [
    "df.head()"
   ]
  },
  {
   "cell_type": "code",
   "execution_count": null,
   "id": "b4e2dbb3",
   "metadata": {},
   "outputs": [],
   "source": [
    "sample_script = df.iloc[0]['script']\n",
    "sample_script"
   ]
  },
  {
   "cell_type": "code",
   "execution_count": null,
   "id": "09937e66",
   "metadata": {},
   "outputs": [],
   "source": [
    "sentences = sent_tokenize(sample_script)"
   ]
  },
  {
   "cell_type": "code",
   "execution_count": null,
   "id": "367dd7fc",
   "metadata": {},
   "outputs": [],
   "source": [
    "sentences = sentences[60:90]"
   ]
  },
  {
   "cell_type": "code",
   "execution_count": null,
   "id": "a90d8865",
   "metadata": {},
   "outputs": [],
   "source": [
    "sentence = \".\".join(sentences)"
   ]
  },
  {
   "cell_type": "code",
   "execution_count": null,
   "id": "10d27900",
   "metadata": {},
   "outputs": [],
   "source": [
    "sentence"
   ]
  },
  {
   "cell_type": "markdown",
   "id": "36d30bfb",
   "metadata": {},
   "source": [
    "#Run Model"
   ]
  },
  {
   "cell_type": "code",
   "execution_count": null,
   "id": "26fd6b0b",
   "metadata": {},
   "outputs": [],
   "source": [
    "doc = nlp_model(sentence)"
   ]
  },
  {
   "cell_type": "code",
   "execution_count": null,
   "id": "e10c3c6f",
   "metadata": {},
   "outputs": [],
   "source": [
    "doc.ents"
   ]
  },
  {
   "cell_type": "code",
   "execution_count": null,
   "id": "4932c279",
   "metadata": {},
   "outputs": [],
   "source": [
    "for entity in doc.ents:\n",
    "    print(entity, entity.label_)"
   ]
  },
  {
   "cell_type": "code",
   "execution_count": null,
   "id": "6e2c84ac",
   "metadata": {},
   "outputs": [],
   "source": [
    "def get_ners_inference(script):\n",
    "    script_sentences = sent_tokenize(script)\n",
    "\n",
    "    ner_output = []\n",
    "\n",
    "    for sentence in script_sentences:\n",
    "        doc = nlp_model(sentence)\n",
    "        ners = set()\n",
    "        for entity in doc.ents:\n",
    "            if entity.label_ ==\"PERSON\":\n",
    "                full_name = entity.text\n",
    "                first_name = entity.text.split(\" \")[0]\n",
    "                first_name = first_name.strip()\n",
    "                ners.add(first_name)\n",
    "        ner_output.append(ners)\n",
    "\n",
    "    return ner_output"
   ]
  },
  {
   "cell_type": "code",
   "execution_count": null,
   "id": "859cef05",
   "metadata": {},
   "outputs": [],
   "source": [
    "df = df.head(10)"
   ]
  },
  {
   "cell_type": "code",
   "execution_count": null,
   "id": "e7aeb80d",
   "metadata": {},
   "outputs": [],
   "source": [
    "df"
   ]
  },
  {
   "cell_type": "code",
   "execution_count": null,
   "id": "b1759f95",
   "metadata": {},
   "outputs": [],
   "source": [
    "df['ners'] = df['script'].apply(get_ners_inference)"
   ]
  },
  {
   "cell_type": "code",
   "execution_count": null,
   "id": "68cf5c99",
   "metadata": {},
   "outputs": [],
   "source": [
    "df"
   ]
  },
  {
   "cell_type": "markdown",
   "id": "57f1bdca",
   "metadata": {},
   "source": [
    "#Character Network"
   ]
  },
  {
   "cell_type": "code",
   "execution_count": null,
   "id": "14f5f33e",
   "metadata": {},
   "outputs": [],
   "source": [
    "import pandas as pd\n",
    "import matplotlib.pyplot as plt\n",
    "import networkx as nx\n",
    "from pyvis.network import Network"
   ]
  },
  {
   "cell_type": "code",
   "execution_count": null,
   "id": "5e3dca9e",
   "metadata": {},
   "outputs": [],
   "source": [
    "def generate_character_network(df):\n",
    "\n",
    "    windows=10\n",
    "    entity_relationship = []\n",
    "\n",
    "    for row in df['ners']:\n",
    "        previous_entities_in_window = []\n",
    "\n",
    "        for sentence in row:\n",
    "            previous_entities_in_window.append(list(sentence))\n",
    "            previous_entities_in_window = previous_entities_in_window[-windows:]\n",
    "\n",
    "            # Flatten 2D List into 1D List\n",
    "            previous_entities_flattened = sum(previous_entities_in_window, [])\n",
    "\n",
    "            for entity in sentence:\n",
    "                for entity_in_window in previous_entities_flattened:\n",
    "                    if entity != entity_in_window:\n",
    "                        entity_relationship.append(sorted([entity, entity_in_window]))\n",
    "    \n",
    "    relationship_df = pd.DataFrame({'value': entity_relationship})\n",
    "    relationship_df['source'] = relationship_df['value'].apply(lambda x: x[0])\n",
    "    relationship_df['target'] = relationship_df['value'].apply(lambda x: x[1])\n",
    "    relationship_df = relationship_df.groupby(['source', 'target']).count().reset_index()\n",
    "    relationship_df = relationship_df.sort_values('value', ascending=False)\n",
    "\n",
    "    return relationship_df"
   ]
  },
  {
   "cell_type": "code",
   "execution_count": null,
   "id": "7b08f854",
   "metadata": {},
   "outputs": [],
   "source": [
    "relationship_df = generate_character_network(df)"
   ]
  },
  {
   "cell_type": "code",
   "execution_count": null,
   "id": "3fd38f51",
   "metadata": {},
   "outputs": [],
   "source": [
    "relationship_df"
   ]
  },
  {
   "cell_type": "code",
   "execution_count": null,
   "id": "5fa506a4",
   "metadata": {},
   "outputs": [],
   "source": [
    "relationship_df = relationship_df.sort_values('value', ascending=False)\n",
    "relationship_df = relationship_df.head(200)"
   ]
  },
  {
   "cell_type": "code",
   "execution_count": null,
   "id": "cddc2e7d",
   "metadata": {},
   "outputs": [],
   "source": [
    "G = nx.from_pandas_edgelist(\n",
    "    relationship_df, \n",
    "    source='source', \n",
    "    target='target', \n",
    "    edge_attr='value',\n",
    "    create_using=nx.Graph()\n",
    ")\n",
    "\n",
    "net = Network(notebook=True, width=\"1000px\", height=\"700px\", bgcolor=\"#222222\", font_color=\"white\", cdn_resources=\"remote\")\n",
    "node_degree = dict(G.degree)\n",
    "\n",
    "nx.set_node_attributes(G, node_degree, 'size')\n",
    "net.from_nx(G)\n",
    "net.show(\"naruto.html\")"
   ]
  }
 ],
 "metadata": {
  "kernelspec": {
   "display_name": "Python 3 (ipykernel)",
   "language": "python",
   "name": "python3"
  },
  "language_info": {
   "codemirror_mode": {
    "name": "ipython",
    "version": 3
   },
   "file_extension": ".py",
   "mimetype": "text/x-python",
   "name": "python",
   "nbconvert_exporter": "python",
   "pygments_lexer": "ipython3",
   "version": "3.12.4"
  }
 },
 "nbformat": 4,
 "nbformat_minor": 5
}
